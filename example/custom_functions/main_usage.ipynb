{
 "cells": [
  {
   "cell_type": "code",
   "execution_count": 1,
   "metadata": {},
   "outputs": [],
   "source": [
    "from crimson.executable_types_beta.mock import TensorMock\n",
    "from crimson.executable_types_beta.types import *\n",
    "from inspect import currentframe"
   ]
  },
  {
   "cell_type": "code",
   "execution_count": 2,
   "metadata": {},
   "outputs": [],
   "source": [
    "from crimson.executable_types_beta.executor import AnnotationExecutor, with_executable"
   ]
  },
  {
   "cell_type": "markdown",
   "metadata": {},
   "source": [
    "If the `func_with_error` function is executed,\n",
    "We get `comparison expression`s or `argument`s.\n",
    "\n",
    "Or, an argument is assigned more than once, it is `tested` immediately.\n",
    "\n",
    "- array1\n",
    "\t- b = 4,\n",
    "\t\t- type: argument\n",
    "\t- c = 6,\n",
    "\t\t- type: argument\n",
    "- array2\n",
    "\t- d = 8\n",
    "\t\t- type: argument\n",
    "\t- e = 10\n",
    "\t\t- type: argument\n",
    "\t- d == 2*b\n",
    "\t\t- type: comparison\n",
    "\t- e == b+2*c\n",
    "\t\t- type: comparison\n",
    "- array3\n",
    "\t- None\n",
    "- array4\n",
    "\t- b == 4\n",
    "\t\t- type: tested\n",
    "\t- f = 8\n",
    "\t\t- type: argument\n",
    "\t- f == 3 * b\n",
    "\t\t- type: comparison\n",
    "\n",
    "We intentionally added wrong comparisons. Let's see the result.\n"
   ]
  },
  {
   "cell_type": "code",
   "execution_count": 3,
   "metadata": {},
   "outputs": [],
   "source": [
    "array1 = TensorMock.ones((4, 6))\n",
    "array2 = TensorMock.ones((8, 10))\n",
    "array3 = TensorMock.ones((4, 8))\n",
    "array4 = TensorMock.ones((4, 8))"
   ]
  },
  {
   "cell_type": "code",
   "execution_count": 4,
   "metadata": {},
   "outputs": [],
   "source": [
    "@AnnotationExecutor.with_executable\n",
    "def func_with_error(\n",
    "    array1: TensorMock[List, \"b\", \"c\"], \n",
    "    array2: TensorMock[List, \"d == 2*b\", \"e == b+2*c\"],\n",
    "    array3: TensorMock\n",
    ") -> TensorMock[List, \"b\", \"f == 3 * b\"]:\n",
    "    return array4"
   ]
  },
  {
   "cell_type": "code",
   "execution_count": 5,
   "metadata": {},
   "outputs": [],
   "source": [
    "AnnotationExecutor.set_config(\n",
    "    mode='on',\n",
    "    raise_error=False,\n",
    "    push_result=False\n",
    ")"
   ]
  },
  {
   "cell_type": "code",
   "execution_count": 6,
   "metadata": {},
   "outputs": [
    {
     "data": {
      "text/plain": [
       "[[1, 1, 1, 1, 1, 1, 1, 1],\n",
       " [1, 1, 1, 1, 1, 1, 1, 1],\n",
       " [1, 1, 1, 1, 1, 1, 1, 1],\n",
       " [1, 1, 1, 1, 1, 1, 1, 1]]"
      ]
     },
     "execution_count": 6,
     "metadata": {},
     "output_type": "execute_result"
    }
   ],
   "source": [
    "AnnotationExecutor.env = currentframe().f_locals# {'TensorMock':TensorMock}\n",
    "\n",
    "func_with_error(\n",
    "    array1,\n",
    "    array2,\n",
    "    array3\n",
    ")"
   ]
  },
  {
   "cell_type": "code",
   "execution_count": 7,
   "metadata": {},
   "outputs": [
    {
     "data": {
      "text/plain": [
       "{'d == 2 * b': True, 'e == b + 2 * c': False, 'f == 3 * b': False}"
      ]
     },
     "execution_count": 7,
     "metadata": {},
     "output_type": "execute_result"
    }
   ],
   "source": [
    "AnnotationExecutor.last_execution_result.test_result"
   ]
  },
  {
   "cell_type": "markdown",
   "metadata": {},
   "source": [
    "If you run the same function, but with `raise_error = True`,\n",
    "the execution of the function will raise an error after it is tested.\n"
   ]
  },
  {
   "cell_type": "code",
   "execution_count": 8,
   "metadata": {},
   "outputs": [],
   "source": [
    "AnnotationExecutor.set_config(\n",
    "    raise_error=True,\n",
    ")"
   ]
  },
  {
   "cell_type": "code",
   "execution_count": 9,
   "metadata": {},
   "outputs": [
    {
     "name": "stdout",
     "output_type": "stream",
     "text": [
      "test_meta_dict failed. Check fields in AnnotationExecutor.test_result.\n"
     ]
    }
   ],
   "source": [
    "try:\n",
    "\tfunc_with_error(\n",
    "\t\tarray1,\n",
    "\t\tarray2,\n",
    "\t\tarray3\n",
    "\t)\n",
    "except Exception as e:\n",
    "\tprint(e)"
   ]
  },
  {
   "cell_type": "markdown",
   "metadata": {},
   "source": [
    "To prevent the memory leaking,\n",
    "the default value of `push_result` is `False`.\n",
    "\n",
    "If means that, when `AnnotationExecutor` tests various functions,\n",
    "the `test_result` is replaced by each test, and previous ones are not stored.\n",
    "\n",
    "If you want to collect them, set the value to be `True`."
   ]
  },
  {
   "cell_type": "code",
   "execution_count": 10,
   "metadata": {},
   "outputs": [
    {
     "data": {
      "text/plain": [
       "{}"
      ]
     },
     "execution_count": 10,
     "metadata": {},
     "output_type": "execute_result"
    }
   ],
   "source": [
    "AnnotationExecutor.execution_results"
   ]
  },
  {
   "cell_type": "code",
   "execution_count": 11,
   "metadata": {},
   "outputs": [
    {
     "data": {
      "text/plain": [
       "[[1, 1, 1, 1, 1, 1, 1, 1],\n",
       " [1, 1, 1, 1, 1, 1, 1, 1],\n",
       " [1, 1, 1, 1, 1, 1, 1, 1],\n",
       " [1, 1, 1, 1, 1, 1, 1, 1]]"
      ]
     },
     "execution_count": 11,
     "metadata": {},
     "output_type": "execute_result"
    }
   ],
   "source": [
    "AnnotationExecutor.set_config(\n",
    "    raise_error=False,\n",
    "    push_result=True\n",
    ")\n",
    "\n",
    "func_with_error(\n",
    "\tarray1,\n",
    "\tarray2,\n",
    "\tarray3\n",
    ")"
   ]
  },
  {
   "cell_type": "code",
   "execution_count": 12,
   "metadata": {},
   "outputs": [
    {
     "data": {
      "text/plain": [
       "{'func_with_error': ExecutionResult(custom_meta={}, args_detail={'array1': [[1, 1, 1, 1, 1, 1], [1, 1, 1, 1, 1, 1], [1, 1, 1, 1, 1, 1], [1, 1, 1, 1, 1, 1]], 'array2': [[1, 1, 1, 1, 1, 1, 1, 1, 1, 1], [1, 1, 1, 1, 1, 1, 1, 1, 1, 1], [1, 1, 1, 1, 1, 1, 1, 1, 1, 1], [1, 1, 1, 1, 1, 1, 1, 1, 1, 1], [1, 1, 1, 1, 1, 1, 1, 1, 1, 1], [1, 1, 1, 1, 1, 1, 1, 1, 1, 1], [1, 1, 1, 1, 1, 1, 1, 1, 1, 1], [1, 1, 1, 1, 1, 1, 1, 1, 1, 1]], 'array3': [[1, 1, 1, 1, 1, 1, 1, 1], [1, 1, 1, 1, 1, 1, 1, 1], [1, 1, 1, 1, 1, 1, 1, 1], [1, 1, 1, 1, 1, 1, 1, 1]], 'return': [[1, 1, 1, 1, 1, 1, 1, 1], [1, 1, 1, 1, 1, 1, 1, 1], [1, 1, 1, 1, 1, 1, 1, 1], [1, 1, 1, 1, 1, 1, 1, 1]]}, meta_annotations={'array1': ['b', 'c'], 'array2': ['d == 2*b', 'e == b+2*c'], 'array3': None, 'return': ['b', 'f == 3 * b']}, meta_dict={'b': 4, 'c': 6, 'd': 8, 'e': 10, 'f': 8}, test_result={'d == 2 * b': True, 'e == b + 2 * c': False, 'f == 3 * b': False})}"
      ]
     },
     "execution_count": 12,
     "metadata": {},
     "output_type": "execute_result"
    }
   ],
   "source": [
    "AnnotationExecutor.execution_results"
   ]
  },
  {
   "cell_type": "markdown",
   "metadata": {},
   "source": [
    "To understand the fields of the result, read the #study_module page."
   ]
  },
  {
   "cell_type": "markdown",
   "metadata": {},
   "source": [
    "Turn off the mode if you don't want to use the `AnnotationExecutor`.\n"
   ]
  },
  {
   "cell_type": "code",
   "execution_count": 13,
   "metadata": {},
   "outputs": [],
   "source": [
    "del AnnotationExecutor.last_execution_result"
   ]
  },
  {
   "cell_type": "code",
   "execution_count": 14,
   "metadata": {},
   "outputs": [],
   "source": [
    "AnnotationExecutor.set_config(\n",
    "    mode='off'\n",
    ")\n"
   ]
  },
  {
   "cell_type": "code",
   "execution_count": 15,
   "metadata": {},
   "outputs": [],
   "source": [
    "@AnnotationExecutor.with_executable\n",
    "def func_with_error(\n",
    "    array1: TensorMock[List, \"b\", \"c\"], \n",
    "    array2: TensorMock[List, \"d == 2*b\", \"e == b+2*c\"],\n",
    "    array3: TensorMock\n",
    ") -> TensorMock[List, \"b\", \"f == 3 * b\"]:\n",
    "    return array4"
   ]
  },
  {
   "cell_type": "code",
   "execution_count": 16,
   "metadata": {},
   "outputs": [
    {
     "data": {
      "text/plain": [
       "False"
      ]
     },
     "execution_count": 16,
     "metadata": {},
     "output_type": "execute_result"
    }
   ],
   "source": [
    "hasattr(AnnotationExecutor, 'last_execution_result')"
   ]
  }
 ],
 "metadata": {
  "kernelspec": {
   "display_name": "executable-types-beta",
   "language": "python",
   "name": "python3"
  },
  "language_info": {
   "codemirror_mode": {
    "name": "ipython",
    "version": 3
   },
   "file_extension": ".py",
   "mimetype": "text/x-python",
   "name": "python",
   "nbconvert_exporter": "python",
   "pygments_lexer": "ipython3",
   "version": "3.12.7"
  }
 },
 "nbformat": 4,
 "nbformat_minor": 2
}
