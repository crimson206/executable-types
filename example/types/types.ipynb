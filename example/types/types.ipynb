{
 "cells": [
  {
   "cell_type": "markdown",
   "metadata": {},
   "source": [
    "## Import\n"
   ]
  },
  {
   "cell_type": "code",
   "execution_count": 1,
   "metadata": {},
   "outputs": [],
   "source": [
    "from crimson.ast_dev_tool import collect_nodes\n",
    "import ast"
   ]
  },
  {
   "cell_type": "markdown",
   "metadata": {},
   "source": [
    "## Comparison Expression"
   ]
  },
  {
   "cell_type": "code",
   "execution_count": 2,
   "metadata": {},
   "outputs": [
    {
     "name": "stdout",
     "output_type": "stream",
     "text": [
      "Code: a in my_data\n",
      "Is Comparison: True\n",
      "---\n",
      "Code: a == 3\n",
      "Is Comparison: True\n",
      "---\n",
      "Code: a is str\n",
      "Is Comparison: True\n",
      "---\n",
      "Code: isinstance(a, int)\n",
      "Is Comparison: False\n",
      "---\n",
      "Code: all([condition1, condition2])\n",
      "Is Comparison: False\n",
      "---\n"
     ]
    }
   ],
   "source": [
    "comparison_code_examples = [\n",
    "    \"a in my_data\",\n",
    "    \"a == 3\",\n",
    "    \"a is str\",\n",
    "\t\"isinstance(a, int)\",\n",
    "\t\"all([condition1, condition2])\"\n",
    "]\n",
    "\n",
    "for code in comparison_code_examples:\n",
    "\tcompare_nodes = collect_nodes(code, ast.Compare)\n",
    "\tis_comparison = len(compare_nodes) > 0\n",
    "\tprint(f\"Code: {code}\\nIs Comparison: {is_comparison}\\n---\")"
   ]
  }
 ],
 "metadata": {
  "kernelspec": {
   "display_name": "executable-types-beta",
   "language": "python",
   "name": "python3"
  },
  "language_info": {
   "codemirror_mode": {
    "name": "ipython",
    "version": 3
   },
   "file_extension": ".py",
   "mimetype": "text/x-python",
   "name": "python",
   "nbconvert_exporter": "python",
   "pygments_lexer": "ipython3",
   "version": "3.12.7"
  }
 },
 "nbformat": 4,
 "nbformat_minor": 2
}
